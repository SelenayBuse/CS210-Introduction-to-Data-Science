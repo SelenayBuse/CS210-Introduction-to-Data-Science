{
  "cells": [
    {
      "cell_type": "code",
      "execution_count": null,
      "metadata": {
        "id": "in7twKb6Wm6J"
      },
      "outputs": [],
      "source": [
        "import pandas as pd\n",
        "import numpy as np\n",
        "import matplotlib.pyplot as plt\n",
        "import seaborn as sns\n",
        "import json\n",
        "import os\n",
        "import gzip"
      ]
    },
    {
      "cell_type": "code",
      "execution_count": null,
      "metadata": {
        "colab": {
          "base_uri": "https://localhost:8080/",
          "height": 36
        },
        "id": "oSAkWr1aXbyk",
        "outputId": "4182aebe-cecf-4ded-9857-dfb0fd6fb2c3"
      },
      "outputs": [
        {
          "output_type": "execute_result",
          "data": {
            "text/plain": [
              "\"\\nfrom google.colab import drive\\ndrive.mount('/content/drive')\\n\""
            ],
            "application/vnd.google.colaboratory.intrinsic+json": {
              "type": "string"
            }
          },
          "metadata": {},
          "execution_count": 26
        }
      ],
      "source": [
        "# Mounting Drive\n",
        "\"\"\"\n",
        "from google.colab import drive\n",
        "drive.mount('/content/drive')\n",
        "\"\"\""
      ]
    },
    {
      "cell_type": "markdown",
      "metadata": {
        "id": "B87Y10tkeLgC"
      },
      "source": [
        "PART 1\n"
      ]
    },
    {
      "cell_type": "code",
      "execution_count": null,
      "metadata": {
        "id": "TrAtWqooYAeU"
      },
      "outputs": [],
      "source": [
        "# Loading data\n",
        "df = pd.read_csv(\"Spotify_Playlist_Analysis.csv\")"
      ]
    },
    {
      "cell_type": "code",
      "execution_count": null,
      "metadata": {
        "colab": {
          "base_uri": "https://localhost:8080/"
        },
        "id": "OwqcxrctYXWP",
        "outputId": "ea65b504-40a9-4c6b-f4f7-ed06c8b4a9e9"
      },
      "outputs": [
        {
          "output_type": "execute_result",
          "data": {
            "text/plain": [
              "(607, 18)"
            ]
          },
          "metadata": {},
          "execution_count": 28
        }
      ],
      "source": [
        "# Checking dataset size\n",
        "df.shape"
      ]
    },
    {
      "cell_type": "code",
      "execution_count": null,
      "metadata": {
        "id": "JEumfHfOZ1CK",
        "colab": {
          "base_uri": "https://localhost:8080/"
        },
        "outputId": "bfc78505-f043-4504-f84a-ee07a8d4eb0f"
      },
      "outputs": [
        {
          "output_type": "execute_result",
          "data": {
            "text/plain": [
              "<bound method DataFrame.info of            Track Name                                 Album Name  \\\n",
              "0    Crying Lightning                                     Humbug   \n",
              "1     Ode To The Mets                           The New Abnormal   \n",
              "2      Buzzcut Season                               Pure Heroine   \n",
              "3      I Know The End                                   Punisher   \n",
              "4    Simulation Swarm  Dragon New Warm Mountain I Believe In You   \n",
              "..                ...                                        ...   \n",
              "602       Do Not Wait                            Nothing Happens   \n",
              "603         Wild Time                             Titanic Rising   \n",
              "604      Leif Erikson                  Turn On The Bright Lights   \n",
              "605   Oceanic Feeling                                Solar Power   \n",
              "606          Supercut                                  Melodrama   \n",
              "\n",
              "      Artist Name(s) Release Date  Duration (ms)  Popularity  \\\n",
              "0     Arctic Monkeys   2009-08-20         224826          67   \n",
              "1        The Strokes   2020-04-10         351786          64   \n",
              "2              Lorde   2013-09-27         246755          68   \n",
              "3    Phoebe Bridgers   2020-06-18         344692           0   \n",
              "4          Big Thief   2022-02-11         252733          62   \n",
              "..               ...          ...            ...         ...   \n",
              "602          Wallows   2019-03-22         390880          49   \n",
              "603      Weyes Blood   2019-04-05         369265          47   \n",
              "604         Interpol   2002-08-20         240093          50   \n",
              "605            Lorde   2021-08-20         399583          47   \n",
              "606            Lorde   2017-06-16         277506          67   \n",
              "\n",
              "                                                Genres  Danceability  Energy  \\\n",
              "0    garage rock,modern rock,permanent wave,rock,sh...         0.498   0.885   \n",
              "1    alternative rock,garage rock,modern rock,perma...         0.426   0.617   \n",
              "2                      art pop,metropopolis,nz pop,pop         0.733   0.620   \n",
              "3                                   indie pop,la indie         0.328   0.320   \n",
              "4    art pop,brooklyn indie,indie pop,indie rock,sm...         0.703   0.578   \n",
              "..                                                 ...           ...     ...   \n",
              "602                          indie pop,modern rock,pop         0.230   0.473   \n",
              "603                art pop,experimental folk,indie pop         0.382   0.423   \n",
              "604       alternative rock,indie rock,modern rock,rock         0.525   0.739   \n",
              "605                    art pop,metropopolis,nz pop,pop         0.473   0.359   \n",
              "606                    art pop,metropopolis,nz pop,pop         0.562   0.437   \n",
              "\n",
              "     Key  Loudness  Mode  Speechiness  Acousticness  Instrumentalness  \\\n",
              "0      4    -4.423     0       0.0461        0.0148          0.000410   \n",
              "1      1    -5.423     0       0.0289        0.3410          0.181000   \n",
              "2      1   -10.525     1       0.0750        0.6060          0.305000   \n",
              "3      1   -10.282     1       0.0350        0.3240          0.019000   \n",
              "4      1    -9.103     1       0.0728        0.4460          0.002400   \n",
              "..   ...       ...   ...          ...           ...               ...   \n",
              "602    4    -9.583     1       0.0303        0.0305          0.013300   \n",
              "603    7    -9.929     1       0.0269        0.5510          0.006500   \n",
              "604    7    -7.521     1       0.0246        0.0554          0.584000   \n",
              "605    0   -13.094     1       0.0431        0.8500          0.001150   \n",
              "606    0   -10.229     1       0.0520        0.2190          0.000022   \n",
              "\n",
              "     Liveness  Valence    Tempo  \n",
              "0      0.2390   0.6700  106.719  \n",
              "1      0.1010   0.2010   92.002  \n",
              "2      0.1170   0.2470  111.039  \n",
              "3      0.2340   0.2590  111.453  \n",
              "4      0.1020   0.6700  105.204  \n",
              "..        ...      ...      ...  \n",
              "602    0.1610   0.0715   99.832  \n",
              "603    0.2100   0.2330  141.359  \n",
              "604    0.0872   0.6510  108.568  \n",
              "605    0.1200   0.1850  113.364  \n",
              "606    0.0806   0.1500  124.852  \n",
              "\n",
              "[607 rows x 18 columns]>"
            ]
          },
          "metadata": {},
          "execution_count": 29
        }
      ],
      "source": [
        "# Showing the information\n",
        "df.info"
      ]
    },
    {
      "cell_type": "code",
      "execution_count": null,
      "metadata": {
        "colab": {
          "base_uri": "https://localhost:8080/"
        },
        "id": "kuQOHN5VbffP",
        "outputId": "aff52f55-2f12-42e2-b8a8-262ed41d9e0f"
      },
      "outputs": [
        {
          "output_type": "execute_result",
          "data": {
            "text/plain": [
              "(594, 18)"
            ]
          },
          "metadata": {},
          "execution_count": 30
        }
      ],
      "source": [
        "# Dropping the duplicated values\n",
        "df = df.drop_duplicates(subset = None)\n",
        "df.shape"
      ]
    },
    {
      "cell_type": "code",
      "execution_count": null,
      "metadata": {
        "id": "SS1rkWtN8LrF",
        "colab": {
          "base_uri": "https://localhost:8080/",
          "height": 513
        },
        "outputId": "2f6cde80-44f3-4aba-f118-563e92920863"
      },
      "outputs": [
        {
          "output_type": "execute_result",
          "data": {
            "text/plain": [
              "         Track Name                                 Album Name  \\\n",
              "0  Crying Lightning                                     Humbug   \n",
              "1   Ode To The Mets                           The New Abnormal   \n",
              "2    Buzzcut Season                               Pure Heroine   \n",
              "3    I Know The End                                   Punisher   \n",
              "4  Simulation Swarm  Dragon New Warm Mountain I Believe In You   \n",
              "\n",
              "    Artist Name(s) Release Date  Duration (ms)  Popularity  \\\n",
              "0   Arctic Monkeys   2009-08-20         224826          67   \n",
              "1      The Strokes   2020-04-10         351786          64   \n",
              "2            Lorde   2013-09-27         246755          68   \n",
              "3  Phoebe Bridgers   2020-06-18         344692           0   \n",
              "4        Big Thief   2022-02-11         252733          62   \n",
              "\n",
              "                                              Genres  Danceability  Energy  \\\n",
              "0  garage rock,modern rock,permanent wave,rock,sh...         0.498   0.885   \n",
              "1  alternative rock,garage rock,modern rock,perma...         0.426   0.617   \n",
              "2                    art pop,metropopolis,nz pop,pop         0.733   0.620   \n",
              "3                                 indie pop,la indie         0.328   0.320   \n",
              "4  art pop,brooklyn indie,indie pop,indie rock,sm...         0.703   0.578   \n",
              "\n",
              "   Key  Loudness  Mode  Speechiness  Acousticness  Instrumentalness  Liveness  \\\n",
              "0    4    -4.423     0       0.0461        0.0148           0.00041     0.239   \n",
              "1    1    -5.423     0       0.0289        0.3410           0.18100     0.101   \n",
              "2    1   -10.525     1       0.0750        0.6060           0.30500     0.117   \n",
              "3    1   -10.282     1       0.0350        0.3240           0.01900     0.234   \n",
              "4    1    -9.103     1       0.0728        0.4460           0.00240     0.102   \n",
              "\n",
              "   Valence    Tempo  \n",
              "0    0.670  106.719  \n",
              "1    0.201   92.002  \n",
              "2    0.247  111.039  \n",
              "3    0.259  111.453  \n",
              "4    0.670  105.204  "
            ],
            "text/html": [
              "\n",
              "  <div id=\"df-5579a766-6c61-4c04-8cb3-d383acef1820\">\n",
              "    <div class=\"colab-df-container\">\n",
              "      <div>\n",
              "<style scoped>\n",
              "    .dataframe tbody tr th:only-of-type {\n",
              "        vertical-align: middle;\n",
              "    }\n",
              "\n",
              "    .dataframe tbody tr th {\n",
              "        vertical-align: top;\n",
              "    }\n",
              "\n",
              "    .dataframe thead th {\n",
              "        text-align: right;\n",
              "    }\n",
              "</style>\n",
              "<table border=\"1\" class=\"dataframe\">\n",
              "  <thead>\n",
              "    <tr style=\"text-align: right;\">\n",
              "      <th></th>\n",
              "      <th>Track Name</th>\n",
              "      <th>Album Name</th>\n",
              "      <th>Artist Name(s)</th>\n",
              "      <th>Release Date</th>\n",
              "      <th>Duration (ms)</th>\n",
              "      <th>Popularity</th>\n",
              "      <th>Genres</th>\n",
              "      <th>Danceability</th>\n",
              "      <th>Energy</th>\n",
              "      <th>Key</th>\n",
              "      <th>Loudness</th>\n",
              "      <th>Mode</th>\n",
              "      <th>Speechiness</th>\n",
              "      <th>Acousticness</th>\n",
              "      <th>Instrumentalness</th>\n",
              "      <th>Liveness</th>\n",
              "      <th>Valence</th>\n",
              "      <th>Tempo</th>\n",
              "    </tr>\n",
              "  </thead>\n",
              "  <tbody>\n",
              "    <tr>\n",
              "      <th>0</th>\n",
              "      <td>Crying Lightning</td>\n",
              "      <td>Humbug</td>\n",
              "      <td>Arctic Monkeys</td>\n",
              "      <td>2009-08-20</td>\n",
              "      <td>224826</td>\n",
              "      <td>67</td>\n",
              "      <td>garage rock,modern rock,permanent wave,rock,sh...</td>\n",
              "      <td>0.498</td>\n",
              "      <td>0.885</td>\n",
              "      <td>4</td>\n",
              "      <td>-4.423</td>\n",
              "      <td>0</td>\n",
              "      <td>0.0461</td>\n",
              "      <td>0.0148</td>\n",
              "      <td>0.00041</td>\n",
              "      <td>0.239</td>\n",
              "      <td>0.670</td>\n",
              "      <td>106.719</td>\n",
              "    </tr>\n",
              "    <tr>\n",
              "      <th>1</th>\n",
              "      <td>Ode To The Mets</td>\n",
              "      <td>The New Abnormal</td>\n",
              "      <td>The Strokes</td>\n",
              "      <td>2020-04-10</td>\n",
              "      <td>351786</td>\n",
              "      <td>64</td>\n",
              "      <td>alternative rock,garage rock,modern rock,perma...</td>\n",
              "      <td>0.426</td>\n",
              "      <td>0.617</td>\n",
              "      <td>1</td>\n",
              "      <td>-5.423</td>\n",
              "      <td>0</td>\n",
              "      <td>0.0289</td>\n",
              "      <td>0.3410</td>\n",
              "      <td>0.18100</td>\n",
              "      <td>0.101</td>\n",
              "      <td>0.201</td>\n",
              "      <td>92.002</td>\n",
              "    </tr>\n",
              "    <tr>\n",
              "      <th>2</th>\n",
              "      <td>Buzzcut Season</td>\n",
              "      <td>Pure Heroine</td>\n",
              "      <td>Lorde</td>\n",
              "      <td>2013-09-27</td>\n",
              "      <td>246755</td>\n",
              "      <td>68</td>\n",
              "      <td>art pop,metropopolis,nz pop,pop</td>\n",
              "      <td>0.733</td>\n",
              "      <td>0.620</td>\n",
              "      <td>1</td>\n",
              "      <td>-10.525</td>\n",
              "      <td>1</td>\n",
              "      <td>0.0750</td>\n",
              "      <td>0.6060</td>\n",
              "      <td>0.30500</td>\n",
              "      <td>0.117</td>\n",
              "      <td>0.247</td>\n",
              "      <td>111.039</td>\n",
              "    </tr>\n",
              "    <tr>\n",
              "      <th>3</th>\n",
              "      <td>I Know The End</td>\n",
              "      <td>Punisher</td>\n",
              "      <td>Phoebe Bridgers</td>\n",
              "      <td>2020-06-18</td>\n",
              "      <td>344692</td>\n",
              "      <td>0</td>\n",
              "      <td>indie pop,la indie</td>\n",
              "      <td>0.328</td>\n",
              "      <td>0.320</td>\n",
              "      <td>1</td>\n",
              "      <td>-10.282</td>\n",
              "      <td>1</td>\n",
              "      <td>0.0350</td>\n",
              "      <td>0.3240</td>\n",
              "      <td>0.01900</td>\n",
              "      <td>0.234</td>\n",
              "      <td>0.259</td>\n",
              "      <td>111.453</td>\n",
              "    </tr>\n",
              "    <tr>\n",
              "      <th>4</th>\n",
              "      <td>Simulation Swarm</td>\n",
              "      <td>Dragon New Warm Mountain I Believe In You</td>\n",
              "      <td>Big Thief</td>\n",
              "      <td>2022-02-11</td>\n",
              "      <td>252733</td>\n",
              "      <td>62</td>\n",
              "      <td>art pop,brooklyn indie,indie pop,indie rock,sm...</td>\n",
              "      <td>0.703</td>\n",
              "      <td>0.578</td>\n",
              "      <td>1</td>\n",
              "      <td>-9.103</td>\n",
              "      <td>1</td>\n",
              "      <td>0.0728</td>\n",
              "      <td>0.4460</td>\n",
              "      <td>0.00240</td>\n",
              "      <td>0.102</td>\n",
              "      <td>0.670</td>\n",
              "      <td>105.204</td>\n",
              "    </tr>\n",
              "  </tbody>\n",
              "</table>\n",
              "</div>\n",
              "      <button class=\"colab-df-convert\" onclick=\"convertToInteractive('df-5579a766-6c61-4c04-8cb3-d383acef1820')\"\n",
              "              title=\"Convert this dataframe to an interactive table.\"\n",
              "              style=\"display:none;\">\n",
              "        \n",
              "  <svg xmlns=\"http://www.w3.org/2000/svg\" height=\"24px\"viewBox=\"0 0 24 24\"\n",
              "       width=\"24px\">\n",
              "    <path d=\"M0 0h24v24H0V0z\" fill=\"none\"/>\n",
              "    <path d=\"M18.56 5.44l.94 2.06.94-2.06 2.06-.94-2.06-.94-.94-2.06-.94 2.06-2.06.94zm-11 1L8.5 8.5l.94-2.06 2.06-.94-2.06-.94L8.5 2.5l-.94 2.06-2.06.94zm10 10l.94 2.06.94-2.06 2.06-.94-2.06-.94-.94-2.06-.94 2.06-2.06.94z\"/><path d=\"M17.41 7.96l-1.37-1.37c-.4-.4-.92-.59-1.43-.59-.52 0-1.04.2-1.43.59L10.3 9.45l-7.72 7.72c-.78.78-.78 2.05 0 2.83L4 21.41c.39.39.9.59 1.41.59.51 0 1.02-.2 1.41-.59l7.78-7.78 2.81-2.81c.8-.78.8-2.07 0-2.86zM5.41 20L4 18.59l7.72-7.72 1.47 1.35L5.41 20z\"/>\n",
              "  </svg>\n",
              "      </button>\n",
              "      \n",
              "  <style>\n",
              "    .colab-df-container {\n",
              "      display:flex;\n",
              "      flex-wrap:wrap;\n",
              "      gap: 12px;\n",
              "    }\n",
              "\n",
              "    .colab-df-convert {\n",
              "      background-color: #E8F0FE;\n",
              "      border: none;\n",
              "      border-radius: 50%;\n",
              "      cursor: pointer;\n",
              "      display: none;\n",
              "      fill: #1967D2;\n",
              "      height: 32px;\n",
              "      padding: 0 0 0 0;\n",
              "      width: 32px;\n",
              "    }\n",
              "\n",
              "    .colab-df-convert:hover {\n",
              "      background-color: #E2EBFA;\n",
              "      box-shadow: 0px 1px 2px rgba(60, 64, 67, 0.3), 0px 1px 3px 1px rgba(60, 64, 67, 0.15);\n",
              "      fill: #174EA6;\n",
              "    }\n",
              "\n",
              "    [theme=dark] .colab-df-convert {\n",
              "      background-color: #3B4455;\n",
              "      fill: #D2E3FC;\n",
              "    }\n",
              "\n",
              "    [theme=dark] .colab-df-convert:hover {\n",
              "      background-color: #434B5C;\n",
              "      box-shadow: 0px 1px 3px 1px rgba(0, 0, 0, 0.15);\n",
              "      filter: drop-shadow(0px 1px 2px rgba(0, 0, 0, 0.3));\n",
              "      fill: #FFFFFF;\n",
              "    }\n",
              "  </style>\n",
              "\n",
              "      <script>\n",
              "        const buttonEl =\n",
              "          document.querySelector('#df-5579a766-6c61-4c04-8cb3-d383acef1820 button.colab-df-convert');\n",
              "        buttonEl.style.display =\n",
              "          google.colab.kernel.accessAllowed ? 'block' : 'none';\n",
              "\n",
              "        async function convertToInteractive(key) {\n",
              "          const element = document.querySelector('#df-5579a766-6c61-4c04-8cb3-d383acef1820');\n",
              "          const dataTable =\n",
              "            await google.colab.kernel.invokeFunction('convertToInteractive',\n",
              "                                                     [key], {});\n",
              "          if (!dataTable) return;\n",
              "\n",
              "          const docLinkHtml = 'Like what you see? Visit the ' +\n",
              "            '<a target=\"_blank\" href=https://colab.research.google.com/notebooks/data_table.ipynb>data table notebook</a>'\n",
              "            + ' to learn more about interactive tables.';\n",
              "          element.innerHTML = '';\n",
              "          dataTable['output_type'] = 'display_data';\n",
              "          await google.colab.output.renderOutput(dataTable, element);\n",
              "          const docLink = document.createElement('div');\n",
              "          docLink.innerHTML = docLinkHtml;\n",
              "          element.appendChild(docLink);\n",
              "        }\n",
              "      </script>\n",
              "    </div>\n",
              "  </div>\n",
              "  "
            ]
          },
          "metadata": {},
          "execution_count": 31
        }
      ],
      "source": [
        "df.head()"
      ]
    },
    {
      "cell_type": "code",
      "execution_count": null,
      "metadata": {
        "id": "aW68J0Ni8SS6"
      },
      "outputs": [],
      "source": [
        "# Checking again\n",
        "df = df.drop_duplicates(subset = None)"
      ]
    },
    {
      "cell_type": "markdown",
      "metadata": {
        "id": "qneIi_z9eGRQ"
      },
      "source": [
        "PART 2\n"
      ]
    },
    {
      "cell_type": "code",
      "execution_count": null,
      "metadata": {
        "id": "l1OknBBQ8fI-",
        "colab": {
          "base_uri": "https://localhost:8080/",
          "height": 513
        },
        "outputId": "0e62c09c-80e1-4019-bd0a-621f4e4bd47e"
      },
      "outputs": [
        {
          "output_type": "execute_result",
          "data": {
            "text/plain": [
              "         Track Name                                 Album Name  \\\n",
              "0  Crying Lightning                                     Humbug   \n",
              "1   Ode To The Mets                           The New Abnormal   \n",
              "2    Buzzcut Season                               Pure Heroine   \n",
              "3    I Know The End                                   Punisher   \n",
              "4  Simulation Swarm  Dragon New Warm Mountain I Believe In You   \n",
              "\n",
              "    Artist Name(s) Release Date  Duration (ms)  Popularity  \\\n",
              "0   Arctic Monkeys   2009-08-20         224826          67   \n",
              "1      The Strokes   2020-04-10         351786          64   \n",
              "2            Lorde   2013-09-27         246755          68   \n",
              "3  Phoebe Bridgers   2020-06-18         344692           0   \n",
              "4        Big Thief   2022-02-11         252733          62   \n",
              "\n",
              "                                              Genres  Danceability  Energy  \\\n",
              "0  garage rock,modern rock,permanent wave,rock,sh...         0.498   0.885   \n",
              "1  alternative rock,garage rock,modern rock,perma...         0.426   0.617   \n",
              "2                    art pop,metropopolis,nz pop,pop         0.733   0.620   \n",
              "3                                 indie pop,la indie         0.328   0.320   \n",
              "4  art pop,brooklyn indie,indie pop,indie rock,sm...         0.703   0.578   \n",
              "\n",
              "   Key  Loudness  Mode  Speechiness  Acousticness  Instrumentalness  Liveness  \\\n",
              "0    4    -4.423     0       0.0461        0.0148           0.00041     0.239   \n",
              "1    1    -5.423     0       0.0289        0.3410           0.18100     0.101   \n",
              "2    1   -10.525     1       0.0750        0.6060           0.30500     0.117   \n",
              "3    1   -10.282     1       0.0350        0.3240           0.01900     0.234   \n",
              "4    1    -9.103     1       0.0728        0.4460           0.00240     0.102   \n",
              "\n",
              "   Valence    Tempo  \n",
              "0    0.670  106.719  \n",
              "1    0.201   92.002  \n",
              "2    0.247  111.039  \n",
              "3    0.259  111.453  \n",
              "4    0.670  105.204  "
            ],
            "text/html": [
              "\n",
              "  <div id=\"df-45f181d9-12d1-43bb-98f1-faadcbebdb44\">\n",
              "    <div class=\"colab-df-container\">\n",
              "      <div>\n",
              "<style scoped>\n",
              "    .dataframe tbody tr th:only-of-type {\n",
              "        vertical-align: middle;\n",
              "    }\n",
              "\n",
              "    .dataframe tbody tr th {\n",
              "        vertical-align: top;\n",
              "    }\n",
              "\n",
              "    .dataframe thead th {\n",
              "        text-align: right;\n",
              "    }\n",
              "</style>\n",
              "<table border=\"1\" class=\"dataframe\">\n",
              "  <thead>\n",
              "    <tr style=\"text-align: right;\">\n",
              "      <th></th>\n",
              "      <th>Track Name</th>\n",
              "      <th>Album Name</th>\n",
              "      <th>Artist Name(s)</th>\n",
              "      <th>Release Date</th>\n",
              "      <th>Duration (ms)</th>\n",
              "      <th>Popularity</th>\n",
              "      <th>Genres</th>\n",
              "      <th>Danceability</th>\n",
              "      <th>Energy</th>\n",
              "      <th>Key</th>\n",
              "      <th>Loudness</th>\n",
              "      <th>Mode</th>\n",
              "      <th>Speechiness</th>\n",
              "      <th>Acousticness</th>\n",
              "      <th>Instrumentalness</th>\n",
              "      <th>Liveness</th>\n",
              "      <th>Valence</th>\n",
              "      <th>Tempo</th>\n",
              "    </tr>\n",
              "  </thead>\n",
              "  <tbody>\n",
              "    <tr>\n",
              "      <th>0</th>\n",
              "      <td>Crying Lightning</td>\n",
              "      <td>Humbug</td>\n",
              "      <td>Arctic Monkeys</td>\n",
              "      <td>2009-08-20</td>\n",
              "      <td>224826</td>\n",
              "      <td>67</td>\n",
              "      <td>garage rock,modern rock,permanent wave,rock,sh...</td>\n",
              "      <td>0.498</td>\n",
              "      <td>0.885</td>\n",
              "      <td>4</td>\n",
              "      <td>-4.423</td>\n",
              "      <td>0</td>\n",
              "      <td>0.0461</td>\n",
              "      <td>0.0148</td>\n",
              "      <td>0.00041</td>\n",
              "      <td>0.239</td>\n",
              "      <td>0.670</td>\n",
              "      <td>106.719</td>\n",
              "    </tr>\n",
              "    <tr>\n",
              "      <th>1</th>\n",
              "      <td>Ode To The Mets</td>\n",
              "      <td>The New Abnormal</td>\n",
              "      <td>The Strokes</td>\n",
              "      <td>2020-04-10</td>\n",
              "      <td>351786</td>\n",
              "      <td>64</td>\n",
              "      <td>alternative rock,garage rock,modern rock,perma...</td>\n",
              "      <td>0.426</td>\n",
              "      <td>0.617</td>\n",
              "      <td>1</td>\n",
              "      <td>-5.423</td>\n",
              "      <td>0</td>\n",
              "      <td>0.0289</td>\n",
              "      <td>0.3410</td>\n",
              "      <td>0.18100</td>\n",
              "      <td>0.101</td>\n",
              "      <td>0.201</td>\n",
              "      <td>92.002</td>\n",
              "    </tr>\n",
              "    <tr>\n",
              "      <th>2</th>\n",
              "      <td>Buzzcut Season</td>\n",
              "      <td>Pure Heroine</td>\n",
              "      <td>Lorde</td>\n",
              "      <td>2013-09-27</td>\n",
              "      <td>246755</td>\n",
              "      <td>68</td>\n",
              "      <td>art pop,metropopolis,nz pop,pop</td>\n",
              "      <td>0.733</td>\n",
              "      <td>0.620</td>\n",
              "      <td>1</td>\n",
              "      <td>-10.525</td>\n",
              "      <td>1</td>\n",
              "      <td>0.0750</td>\n",
              "      <td>0.6060</td>\n",
              "      <td>0.30500</td>\n",
              "      <td>0.117</td>\n",
              "      <td>0.247</td>\n",
              "      <td>111.039</td>\n",
              "    </tr>\n",
              "    <tr>\n",
              "      <th>3</th>\n",
              "      <td>I Know The End</td>\n",
              "      <td>Punisher</td>\n",
              "      <td>Phoebe Bridgers</td>\n",
              "      <td>2020-06-18</td>\n",
              "      <td>344692</td>\n",
              "      <td>0</td>\n",
              "      <td>indie pop,la indie</td>\n",
              "      <td>0.328</td>\n",
              "      <td>0.320</td>\n",
              "      <td>1</td>\n",
              "      <td>-10.282</td>\n",
              "      <td>1</td>\n",
              "      <td>0.0350</td>\n",
              "      <td>0.3240</td>\n",
              "      <td>0.01900</td>\n",
              "      <td>0.234</td>\n",
              "      <td>0.259</td>\n",
              "      <td>111.453</td>\n",
              "    </tr>\n",
              "    <tr>\n",
              "      <th>4</th>\n",
              "      <td>Simulation Swarm</td>\n",
              "      <td>Dragon New Warm Mountain I Believe In You</td>\n",
              "      <td>Big Thief</td>\n",
              "      <td>2022-02-11</td>\n",
              "      <td>252733</td>\n",
              "      <td>62</td>\n",
              "      <td>art pop,brooklyn indie,indie pop,indie rock,sm...</td>\n",
              "      <td>0.703</td>\n",
              "      <td>0.578</td>\n",
              "      <td>1</td>\n",
              "      <td>-9.103</td>\n",
              "      <td>1</td>\n",
              "      <td>0.0728</td>\n",
              "      <td>0.4460</td>\n",
              "      <td>0.00240</td>\n",
              "      <td>0.102</td>\n",
              "      <td>0.670</td>\n",
              "      <td>105.204</td>\n",
              "    </tr>\n",
              "  </tbody>\n",
              "</table>\n",
              "</div>\n",
              "      <button class=\"colab-df-convert\" onclick=\"convertToInteractive('df-45f181d9-12d1-43bb-98f1-faadcbebdb44')\"\n",
              "              title=\"Convert this dataframe to an interactive table.\"\n",
              "              style=\"display:none;\">\n",
              "        \n",
              "  <svg xmlns=\"http://www.w3.org/2000/svg\" height=\"24px\"viewBox=\"0 0 24 24\"\n",
              "       width=\"24px\">\n",
              "    <path d=\"M0 0h24v24H0V0z\" fill=\"none\"/>\n",
              "    <path d=\"M18.56 5.44l.94 2.06.94-2.06 2.06-.94-2.06-.94-.94-2.06-.94 2.06-2.06.94zm-11 1L8.5 8.5l.94-2.06 2.06-.94-2.06-.94L8.5 2.5l-.94 2.06-2.06.94zm10 10l.94 2.06.94-2.06 2.06-.94-2.06-.94-.94-2.06-.94 2.06-2.06.94z\"/><path d=\"M17.41 7.96l-1.37-1.37c-.4-.4-.92-.59-1.43-.59-.52 0-1.04.2-1.43.59L10.3 9.45l-7.72 7.72c-.78.78-.78 2.05 0 2.83L4 21.41c.39.39.9.59 1.41.59.51 0 1.02-.2 1.41-.59l7.78-7.78 2.81-2.81c.8-.78.8-2.07 0-2.86zM5.41 20L4 18.59l7.72-7.72 1.47 1.35L5.41 20z\"/>\n",
              "  </svg>\n",
              "      </button>\n",
              "      \n",
              "  <style>\n",
              "    .colab-df-container {\n",
              "      display:flex;\n",
              "      flex-wrap:wrap;\n",
              "      gap: 12px;\n",
              "    }\n",
              "\n",
              "    .colab-df-convert {\n",
              "      background-color: #E8F0FE;\n",
              "      border: none;\n",
              "      border-radius: 50%;\n",
              "      cursor: pointer;\n",
              "      display: none;\n",
              "      fill: #1967D2;\n",
              "      height: 32px;\n",
              "      padding: 0 0 0 0;\n",
              "      width: 32px;\n",
              "    }\n",
              "\n",
              "    .colab-df-convert:hover {\n",
              "      background-color: #E2EBFA;\n",
              "      box-shadow: 0px 1px 2px rgba(60, 64, 67, 0.3), 0px 1px 3px 1px rgba(60, 64, 67, 0.15);\n",
              "      fill: #174EA6;\n",
              "    }\n",
              "\n",
              "    [theme=dark] .colab-df-convert {\n",
              "      background-color: #3B4455;\n",
              "      fill: #D2E3FC;\n",
              "    }\n",
              "\n",
              "    [theme=dark] .colab-df-convert:hover {\n",
              "      background-color: #434B5C;\n",
              "      box-shadow: 0px 1px 3px 1px rgba(0, 0, 0, 0.15);\n",
              "      filter: drop-shadow(0px 1px 2px rgba(0, 0, 0, 0.3));\n",
              "      fill: #FFFFFF;\n",
              "    }\n",
              "  </style>\n",
              "\n",
              "      <script>\n",
              "        const buttonEl =\n",
              "          document.querySelector('#df-45f181d9-12d1-43bb-98f1-faadcbebdb44 button.colab-df-convert');\n",
              "        buttonEl.style.display =\n",
              "          google.colab.kernel.accessAllowed ? 'block' : 'none';\n",
              "\n",
              "        async function convertToInteractive(key) {\n",
              "          const element = document.querySelector('#df-45f181d9-12d1-43bb-98f1-faadcbebdb44');\n",
              "          const dataTable =\n",
              "            await google.colab.kernel.invokeFunction('convertToInteractive',\n",
              "                                                     [key], {});\n",
              "          if (!dataTable) return;\n",
              "\n",
              "          const docLinkHtml = 'Like what you see? Visit the ' +\n",
              "            '<a target=\"_blank\" href=https://colab.research.google.com/notebooks/data_table.ipynb>data table notebook</a>'\n",
              "            + ' to learn more about interactive tables.';\n",
              "          element.innerHTML = '';\n",
              "          dataTable['output_type'] = 'display_data';\n",
              "          await google.colab.output.renderOutput(dataTable, element);\n",
              "          const docLink = document.createElement('div');\n",
              "          docLink.innerHTML = docLinkHtml;\n",
              "          element.appendChild(docLink);\n",
              "        }\n",
              "      </script>\n",
              "    </div>\n",
              "  </div>\n",
              "  "
            ]
          },
          "metadata": {},
          "execution_count": 33
        }
      ],
      "source": [
        "#show the first 5 rows\n",
        "df.head(5)"
      ]
    },
    {
      "cell_type": "code",
      "execution_count": null,
      "metadata": {
        "id": "hX3CQG0U8iAD",
        "colab": {
          "base_uri": "https://localhost:8080/",
          "height": 381
        },
        "outputId": "c5f7fc2d-63c6-4c20-ea2b-35d0eaf677e9"
      },
      "outputs": [
        {
          "output_type": "execute_result",
          "data": {
            "text/plain": [
              "       Duration (ms)  Popularity  Danceability      Energy         Key  \\\n",
              "count     594.000000  594.000000    594.000000  594.000000  594.000000   \n",
              "mean   242163.707071   47.897306      0.532816    0.609467    5.469697   \n",
              "std     67305.655426   23.347754      0.147752    0.210018    3.496554   \n",
              "min     96553.000000    0.000000      0.112000    0.052300    0.000000   \n",
              "25%    199164.250000   38.000000      0.429000    0.447250    2.000000   \n",
              "50%    231626.500000   53.000000      0.535500    0.630500    6.000000   \n",
              "75%    275446.250000   64.000000      0.644000    0.788750    9.000000   \n",
              "max    757440.000000   90.000000      0.888000    0.977000   11.000000   \n",
              "\n",
              "         Loudness        Mode  Speechiness  Acousticness  Instrumentalness  \\\n",
              "count  594.000000  594.000000   594.000000    594.000000        594.000000   \n",
              "mean    -8.024519    0.675084     0.049382      0.251596          0.109972   \n",
              "std      3.201484    0.468738     0.040821      0.296811          0.221824   \n",
              "min    -23.625000    0.000000     0.024300      0.000007          0.000000   \n",
              "25%     -9.511500    0.000000     0.031050      0.013650          0.000053   \n",
              "50%     -7.595000    1.000000     0.037600      0.111000          0.002225   \n",
              "75%     -5.644500    1.000000     0.052300      0.410750          0.076550   \n",
              "max     -0.734000    1.000000     0.464000      0.986000          0.954000   \n",
              "\n",
              "         Liveness     Valence       Tempo  \n",
              "count  594.000000  594.000000  594.000000  \n",
              "mean     0.170078    0.439241  124.301288  \n",
              "std      0.126547    0.228532   27.708996  \n",
              "min      0.042600    0.039400   65.740000  \n",
              "25%      0.097675    0.253500  104.981000  \n",
              "50%      0.118000    0.416000  123.166000  \n",
              "75%      0.205750    0.594000  141.366500  \n",
              "max      0.922000    0.979000  206.165000  "
            ],
            "text/html": [
              "\n",
              "  <div id=\"df-c0d0aedd-b28c-40d8-b238-f1ced9727793\">\n",
              "    <div class=\"colab-df-container\">\n",
              "      <div>\n",
              "<style scoped>\n",
              "    .dataframe tbody tr th:only-of-type {\n",
              "        vertical-align: middle;\n",
              "    }\n",
              "\n",
              "    .dataframe tbody tr th {\n",
              "        vertical-align: top;\n",
              "    }\n",
              "\n",
              "    .dataframe thead th {\n",
              "        text-align: right;\n",
              "    }\n",
              "</style>\n",
              "<table border=\"1\" class=\"dataframe\">\n",
              "  <thead>\n",
              "    <tr style=\"text-align: right;\">\n",
              "      <th></th>\n",
              "      <th>Duration (ms)</th>\n",
              "      <th>Popularity</th>\n",
              "      <th>Danceability</th>\n",
              "      <th>Energy</th>\n",
              "      <th>Key</th>\n",
              "      <th>Loudness</th>\n",
              "      <th>Mode</th>\n",
              "      <th>Speechiness</th>\n",
              "      <th>Acousticness</th>\n",
              "      <th>Instrumentalness</th>\n",
              "      <th>Liveness</th>\n",
              "      <th>Valence</th>\n",
              "      <th>Tempo</th>\n",
              "    </tr>\n",
              "  </thead>\n",
              "  <tbody>\n",
              "    <tr>\n",
              "      <th>count</th>\n",
              "      <td>594.000000</td>\n",
              "      <td>594.000000</td>\n",
              "      <td>594.000000</td>\n",
              "      <td>594.000000</td>\n",
              "      <td>594.000000</td>\n",
              "      <td>594.000000</td>\n",
              "      <td>594.000000</td>\n",
              "      <td>594.000000</td>\n",
              "      <td>594.000000</td>\n",
              "      <td>594.000000</td>\n",
              "      <td>594.000000</td>\n",
              "      <td>594.000000</td>\n",
              "      <td>594.000000</td>\n",
              "    </tr>\n",
              "    <tr>\n",
              "      <th>mean</th>\n",
              "      <td>242163.707071</td>\n",
              "      <td>47.897306</td>\n",
              "      <td>0.532816</td>\n",
              "      <td>0.609467</td>\n",
              "      <td>5.469697</td>\n",
              "      <td>-8.024519</td>\n",
              "      <td>0.675084</td>\n",
              "      <td>0.049382</td>\n",
              "      <td>0.251596</td>\n",
              "      <td>0.109972</td>\n",
              "      <td>0.170078</td>\n",
              "      <td>0.439241</td>\n",
              "      <td>124.301288</td>\n",
              "    </tr>\n",
              "    <tr>\n",
              "      <th>std</th>\n",
              "      <td>67305.655426</td>\n",
              "      <td>23.347754</td>\n",
              "      <td>0.147752</td>\n",
              "      <td>0.210018</td>\n",
              "      <td>3.496554</td>\n",
              "      <td>3.201484</td>\n",
              "      <td>0.468738</td>\n",
              "      <td>0.040821</td>\n",
              "      <td>0.296811</td>\n",
              "      <td>0.221824</td>\n",
              "      <td>0.126547</td>\n",
              "      <td>0.228532</td>\n",
              "      <td>27.708996</td>\n",
              "    </tr>\n",
              "    <tr>\n",
              "      <th>min</th>\n",
              "      <td>96553.000000</td>\n",
              "      <td>0.000000</td>\n",
              "      <td>0.112000</td>\n",
              "      <td>0.052300</td>\n",
              "      <td>0.000000</td>\n",
              "      <td>-23.625000</td>\n",
              "      <td>0.000000</td>\n",
              "      <td>0.024300</td>\n",
              "      <td>0.000007</td>\n",
              "      <td>0.000000</td>\n",
              "      <td>0.042600</td>\n",
              "      <td>0.039400</td>\n",
              "      <td>65.740000</td>\n",
              "    </tr>\n",
              "    <tr>\n",
              "      <th>25%</th>\n",
              "      <td>199164.250000</td>\n",
              "      <td>38.000000</td>\n",
              "      <td>0.429000</td>\n",
              "      <td>0.447250</td>\n",
              "      <td>2.000000</td>\n",
              "      <td>-9.511500</td>\n",
              "      <td>0.000000</td>\n",
              "      <td>0.031050</td>\n",
              "      <td>0.013650</td>\n",
              "      <td>0.000053</td>\n",
              "      <td>0.097675</td>\n",
              "      <td>0.253500</td>\n",
              "      <td>104.981000</td>\n",
              "    </tr>\n",
              "    <tr>\n",
              "      <th>50%</th>\n",
              "      <td>231626.500000</td>\n",
              "      <td>53.000000</td>\n",
              "      <td>0.535500</td>\n",
              "      <td>0.630500</td>\n",
              "      <td>6.000000</td>\n",
              "      <td>-7.595000</td>\n",
              "      <td>1.000000</td>\n",
              "      <td>0.037600</td>\n",
              "      <td>0.111000</td>\n",
              "      <td>0.002225</td>\n",
              "      <td>0.118000</td>\n",
              "      <td>0.416000</td>\n",
              "      <td>123.166000</td>\n",
              "    </tr>\n",
              "    <tr>\n",
              "      <th>75%</th>\n",
              "      <td>275446.250000</td>\n",
              "      <td>64.000000</td>\n",
              "      <td>0.644000</td>\n",
              "      <td>0.788750</td>\n",
              "      <td>9.000000</td>\n",
              "      <td>-5.644500</td>\n",
              "      <td>1.000000</td>\n",
              "      <td>0.052300</td>\n",
              "      <td>0.410750</td>\n",
              "      <td>0.076550</td>\n",
              "      <td>0.205750</td>\n",
              "      <td>0.594000</td>\n",
              "      <td>141.366500</td>\n",
              "    </tr>\n",
              "    <tr>\n",
              "      <th>max</th>\n",
              "      <td>757440.000000</td>\n",
              "      <td>90.000000</td>\n",
              "      <td>0.888000</td>\n",
              "      <td>0.977000</td>\n",
              "      <td>11.000000</td>\n",
              "      <td>-0.734000</td>\n",
              "      <td>1.000000</td>\n",
              "      <td>0.464000</td>\n",
              "      <td>0.986000</td>\n",
              "      <td>0.954000</td>\n",
              "      <td>0.922000</td>\n",
              "      <td>0.979000</td>\n",
              "      <td>206.165000</td>\n",
              "    </tr>\n",
              "  </tbody>\n",
              "</table>\n",
              "</div>\n",
              "      <button class=\"colab-df-convert\" onclick=\"convertToInteractive('df-c0d0aedd-b28c-40d8-b238-f1ced9727793')\"\n",
              "              title=\"Convert this dataframe to an interactive table.\"\n",
              "              style=\"display:none;\">\n",
              "        \n",
              "  <svg xmlns=\"http://www.w3.org/2000/svg\" height=\"24px\"viewBox=\"0 0 24 24\"\n",
              "       width=\"24px\">\n",
              "    <path d=\"M0 0h24v24H0V0z\" fill=\"none\"/>\n",
              "    <path d=\"M18.56 5.44l.94 2.06.94-2.06 2.06-.94-2.06-.94-.94-2.06-.94 2.06-2.06.94zm-11 1L8.5 8.5l.94-2.06 2.06-.94-2.06-.94L8.5 2.5l-.94 2.06-2.06.94zm10 10l.94 2.06.94-2.06 2.06-.94-2.06-.94-.94-2.06-.94 2.06-2.06.94z\"/><path d=\"M17.41 7.96l-1.37-1.37c-.4-.4-.92-.59-1.43-.59-.52 0-1.04.2-1.43.59L10.3 9.45l-7.72 7.72c-.78.78-.78 2.05 0 2.83L4 21.41c.39.39.9.59 1.41.59.51 0 1.02-.2 1.41-.59l7.78-7.78 2.81-2.81c.8-.78.8-2.07 0-2.86zM5.41 20L4 18.59l7.72-7.72 1.47 1.35L5.41 20z\"/>\n",
              "  </svg>\n",
              "      </button>\n",
              "      \n",
              "  <style>\n",
              "    .colab-df-container {\n",
              "      display:flex;\n",
              "      flex-wrap:wrap;\n",
              "      gap: 12px;\n",
              "    }\n",
              "\n",
              "    .colab-df-convert {\n",
              "      background-color: #E8F0FE;\n",
              "      border: none;\n",
              "      border-radius: 50%;\n",
              "      cursor: pointer;\n",
              "      display: none;\n",
              "      fill: #1967D2;\n",
              "      height: 32px;\n",
              "      padding: 0 0 0 0;\n",
              "      width: 32px;\n",
              "    }\n",
              "\n",
              "    .colab-df-convert:hover {\n",
              "      background-color: #E2EBFA;\n",
              "      box-shadow: 0px 1px 2px rgba(60, 64, 67, 0.3), 0px 1px 3px 1px rgba(60, 64, 67, 0.15);\n",
              "      fill: #174EA6;\n",
              "    }\n",
              "\n",
              "    [theme=dark] .colab-df-convert {\n",
              "      background-color: #3B4455;\n",
              "      fill: #D2E3FC;\n",
              "    }\n",
              "\n",
              "    [theme=dark] .colab-df-convert:hover {\n",
              "      background-color: #434B5C;\n",
              "      box-shadow: 0px 1px 3px 1px rgba(0, 0, 0, 0.15);\n",
              "      filter: drop-shadow(0px 1px 2px rgba(0, 0, 0, 0.3));\n",
              "      fill: #FFFFFF;\n",
              "    }\n",
              "  </style>\n",
              "\n",
              "      <script>\n",
              "        const buttonEl =\n",
              "          document.querySelector('#df-c0d0aedd-b28c-40d8-b238-f1ced9727793 button.colab-df-convert');\n",
              "        buttonEl.style.display =\n",
              "          google.colab.kernel.accessAllowed ? 'block' : 'none';\n",
              "\n",
              "        async function convertToInteractive(key) {\n",
              "          const element = document.querySelector('#df-c0d0aedd-b28c-40d8-b238-f1ced9727793');\n",
              "          const dataTable =\n",
              "            await google.colab.kernel.invokeFunction('convertToInteractive',\n",
              "                                                     [key], {});\n",
              "          if (!dataTable) return;\n",
              "\n",
              "          const docLinkHtml = 'Like what you see? Visit the ' +\n",
              "            '<a target=\"_blank\" href=https://colab.research.google.com/notebooks/data_table.ipynb>data table notebook</a>'\n",
              "            + ' to learn more about interactive tables.';\n",
              "          element.innerHTML = '';\n",
              "          dataTable['output_type'] = 'display_data';\n",
              "          await google.colab.output.renderOutput(dataTable, element);\n",
              "          const docLink = document.createElement('div');\n",
              "          docLink.innerHTML = docLinkHtml;\n",
              "          element.appendChild(docLink);\n",
              "        }\n",
              "      </script>\n",
              "    </div>\n",
              "  </div>\n",
              "  "
            ]
          },
          "metadata": {},
          "execution_count": 34
        }
      ],
      "source": [
        "#statistical summary \n",
        "df.describe()"
      ]
    },
    {
      "cell_type": "code",
      "execution_count": null,
      "metadata": {
        "id": "NnYQzeuG9A7q",
        "colab": {
          "base_uri": "https://localhost:8080/"
        },
        "outputId": "0a076ccd-f2c4-4e89-8003-ab0c3bbc9c4e"
      },
      "outputs": [
        {
          "output_type": "execute_result",
          "data": {
            "text/plain": [
              "Arctic Monkeys     48\n",
              "Lorde              21\n",
              "Nilüfer Yanya      20\n",
              "Wolf Alice         18\n",
              "Phoebe Bridgers    13\n",
              "The Strokes        13\n",
              "Big Thief          12\n",
              "Alvvays            12\n",
              "alt-J              12\n",
              "girl in red        12\n",
              "Name: Artist Name(s), dtype: int64"
            ]
          },
          "metadata": {},
          "execution_count": 35
        }
      ],
      "source": [
        "# Finding most frequent 10 artists\n",
        "df_artists = df[\"Artist Name(s)\"].value_counts()\n",
        "df_artists.head(10)"
      ]
    },
    {
      "cell_type": "code",
      "execution_count": null,
      "metadata": {
        "id": "6sKDUcPt9Y-a"
      },
      "outputs": [],
      "source": [
        "# Extracting genres in a list\n",
        "genres = df['Genres']\n",
        "list_of_Genres = []\n",
        "\n",
        "for genre in genres:\n",
        "  genre = str(genre)\n",
        "  list_of_Genres.extend(genre.split(\",\"))\n",
        "\n",
        "#max_occ = max(list_of_Genres,key=list_of_Genres.count)"
      ]
    },
    {
      "cell_type": "code",
      "execution_count": null,
      "metadata": {
        "id": "HebDcWTkFzyj",
        "colab": {
          "base_uri": "https://localhost:8080/"
        },
        "outputId": "f6d68778-c205-4a8c-9ff1-969d4601e4e5"
      },
      "outputs": [
        {
          "output_type": "stream",
          "name": "stdout",
          "text": [
            "The most common genre is rock with 235 times.\n"
          ]
        }
      ],
      "source": [
        "# Finding the occurences of max genre\n",
        "counter = 0\n",
        "max_occ = max(list_of_Genres,key=list_of_Genres.count)\n",
        "for genre in list_of_Genres:\n",
        "  if genre == max_occ:\n",
        "    counter +=1\n",
        "\n",
        "#print(counter)\n",
        "\n",
        "print(\"The most common genre is \" + max_occ + \" with \" + str(counter) + ' times.')"
      ]
    },
    {
      "cell_type": "code",
      "execution_count": null,
      "metadata": {
        "id": "57ryEJq5HKNz"
      },
      "outputs": [],
      "source": [
        "# create a new column\n",
        "df['Positivity'] = df[['Danceability', 'Energy', 'Valence']].mean(axis=1)\n",
        "df.describe()"
      ]
    },
    {
      "cell_type": "code",
      "execution_count": null,
      "metadata": {
        "id": "wHl2c8G4P9pH"
      },
      "outputs": [],
      "source": [
        "\"\"\"\n",
        "songname = 'Crying Lightning'\n",
        "artist = 'Arctic Monkeys'\n",
        "\"\"\"\n",
        "# filter by track name and artist name\n",
        "filtered_data = df[(df[\"Track Name\"] == \"Crying Lightning\") & (df[\"Artist Name(s)\"] == \"Arctic Monkeys\")]\n",
        "\n",
        "# print the filtered data\n",
        "print(filtered_data)"
      ]
    },
    {
      "cell_type": "code",
      "source": [
        "df.describe()"
      ],
      "metadata": {
        "id": "llfqpqR6qneu"
      },
      "execution_count": null,
      "outputs": []
    },
    {
      "cell_type": "code",
      "execution_count": null,
      "metadata": {
        "id": "z8FVev9rUwi7"
      },
      "outputs": [],
      "source": [
        "# sorting by energy in decending order\n",
        "# creating a new dataframe\n",
        "energetic_df = df.sort_values(by='Energy', ascending=False)"
      ]
    },
    {
      "cell_type": "code",
      "execution_count": null,
      "metadata": {
        "id": "ZFEK292KXutj"
      },
      "outputs": [],
      "source": [
        "# showing most energetic three songs\n",
        "print(\"The most energetic three songs in the playlist is:\")\n",
        "energetic_df.head(3)"
      ]
    },
    {
      "cell_type": "code",
      "execution_count": null,
      "metadata": {
        "id": "gGPrgFZparGl"
      },
      "outputs": [],
      "source": [
        "# creating positivity df\n",
        "positivity_df = df.sort_values(by='Positivity', ascending=False)\n",
        "print(\"The most positive three songs in the playlist is:\")\n",
        "positivity_df.head(3)"
      ]
    },
    {
      "cell_type": "markdown",
      "metadata": {
        "id": "6JVbQhrlbtAM"
      },
      "source": [
        "PART 3\n"
      ]
    },
    {
      "cell_type": "markdown",
      "metadata": {
        "id": "0Kv4nPZBbs0I"
      },
      "source": []
    },
    {
      "cell_type": "code",
      "execution_count": null,
      "metadata": {
        "id": "kJUuL2pyHyYW",
        "colab": {
          "base_uri": "https://localhost:8080/",
          "height": 451
        },
        "outputId": "2b1c0cb8-549b-4570-9b8a-191a8996dbf2"
      },
      "outputs": [
        {
          "output_type": "display_data",
          "data": {
            "text/plain": [
              "<Figure size 432x288 with 1 Axes>"
            ],
            "image/png": "[encoded data removed]"
          },
          "metadata": {
            "needs_background": "light"
          }
        },
        {
          "output_type": "execute_result",
          "data": {
            "text/plain": [
              "count    594.000000\n",
              "mean       0.532816\n",
              "std        0.147752\n",
              "min        0.112000\n",
              "25%        0.429000\n",
              "50%        0.535500\n",
              "75%        0.644000\n",
              "max        0.888000\n",
              "Name: Danceability, dtype: float64"
            ]
          },
          "metadata": {},
          "execution_count": 47
        }
      ],
      "source": [
        "# create a histogram of the \"Danceability\" column\n",
        "plt.hist(df['Danceability'], bins=15)\n",
        "\n",
        "# set the title and labels for the histogram\n",
        "plt.title('Danceability')\n",
        "plt.ylabel('Frequencies')\n",
        "plt.xlabel('Danceability')\n",
        "\n",
        "# set the boundaries for the x and y axes\n",
        "plt.ylim([0, 100])\n",
        "plt.xlim([0, 1])\n",
        "\n",
        "# show the histogram\n",
        "plt.show()\n",
        "\n",
        "# show the statistical properties\n",
        "df['Danceability'].describe()"
      ]
    },
    {
      "cell_type": "code",
      "execution_count": null,
      "metadata": {
        "id": "XUZKFHN7Hzvd",
        "colab": {
          "base_uri": "https://localhost:8080/",
          "height": 451
        },
        "outputId": "3d96a312-fac8-4767-ed28-50bec5db7359"
      },
      "outputs": [
        {
          "output_type": "display_data",
          "data": {
            "text/plain": [
              "<Figure size 432x288 with 1 Axes>"
            ],
            "image/png": "[encoded data removed]"
          },
          "metadata": {
            "needs_background": "light"
          }
        },
        {
          "output_type": "execute_result",
          "data": {
            "text/plain": [
              "count    594.000000\n",
              "mean       0.439241\n",
              "std        0.228532\n",
              "min        0.039400\n",
              "25%        0.253500\n",
              "50%        0.416000\n",
              "75%        0.594000\n",
              "max        0.979000\n",
              "Name: Valence, dtype: float64"
            ]
          },
          "metadata": {},
          "execution_count": 48
        }
      ],
      "source": [
        "plt.hist(df['Valence'], bins=15)\n",
        "\n",
        "# set title and labels\n",
        "plt.title('Valence Level')\n",
        "plt.xlabel('Valence')\n",
        "plt.ylabel('Frequencies')\n",
        "\n",
        "# set axis boundaries\n",
        "plt.xlim([0, 1])\n",
        "plt.ylim([0, 100])\n",
        "\n",
        "# display the histogram\n",
        "plt.show()\n",
        "\n",
        "# display statistical properties of the \"Valence\" column using pandas\n",
        "df['Valence'].describe()"
      ]
    },
    {
      "cell_type": "code",
      "execution_count": null,
      "metadata": {
        "id": "QQ10vE8Eowfu",
        "colab": {
          "base_uri": "https://localhost:8080/",
          "height": 295
        },
        "outputId": "982c1ff3-08fc-4424-c678-1c27ebe5c9c5"
      },
      "outputs": [
        {
          "output_type": "display_data",
          "data": {
            "text/plain": [
              "<Figure size 864x288 with 1 Axes>"
            ],
            "image/png": "[encoded data removed]"
          },
          "metadata": {
            "needs_background": "light"
          }
        }
      ],
      "source": [
        "plt.figure(figsize=(12, 4))\n",
        "plt.xlim(0.0,1.0)\n",
        "plt.ylim(-25.0,0.0)\n",
        "plt.title(\"Loudness vs. Energy\")\n",
        "plt.xlabel(\"Energy\")\n",
        "plt.ylabel(\"Loudness (dB)\")\n",
        "plt.plot(df[\"Energy\"], df[\"Loudness\"],color=\"blue\",linestyle=\" \",marker=\"*\")\n",
        "plt.show()"
      ]
    },
    {
      "cell_type": "code",
      "execution_count": null,
      "metadata": {
        "id": "7HH_l3bWqNep",
        "colab": {
          "base_uri": "https://localhost:8080/"
        },
        "outputId": "15b1bd8a-ede9-4f5e-d065-96ea640c91b3"
      },
      "outputs": [
        {
          "output_type": "stream",
          "name": "stdout",
          "text": [
            "         Track Name            Album Name   Artist Name(s) Release Date  \\\n",
            "193   Smoke Signals  Stranger in the Alps  Phoebe Bridgers   2017-09-22   \n",
            "267         Funeral  Stranger in the Alps  Phoebe Bridgers   2017-09-22   \n",
            "349       Moon Song              Punisher  Phoebe Bridgers   2020-06-18   \n",
            "329        Punisher              Punisher  Phoebe Bridgers   2020-06-18   \n",
            "295  I Know The End              Punisher  Phoebe Bridgers   2020-06-18   \n",
            "\n",
            "     Duration (ms)  Popularity              Genres  Danceability  Energy  Key  \\\n",
            "193         324773          61  indie pop,la indie         0.265   0.237   10   \n",
            "267         232373          65  indie pop,la indie         0.218   0.263   11   \n",
            "349         277676           0  indie pop,la indie         0.380   0.240    1   \n",
            "329         189622           0  indie pop,la indie         0.428   0.226    1   \n",
            "295         344692          70  indie pop,la indie         0.323   0.323    1   \n",
            "\n",
            "     Loudness  Mode  Speechiness  Acousticness  Instrumentalness  Liveness  \\\n",
            "193   -14.599     1       0.0351         0.945          0.000267    0.1120   \n",
            "267   -14.416     1       0.0376         0.947          0.000280    0.0919   \n",
            "349   -12.544     1       0.0514         0.871          0.002870    0.1070   \n",
            "329   -12.820     1       0.0409         0.986          0.000402    0.1080   \n",
            "295   -10.268     1       0.0351         0.330          0.022900    0.2330   \n",
            "\n",
            "     Valence    Tempo  Positivity Emotion  \n",
            "193    0.190   87.912    0.230667     Sad  \n",
            "267    0.307  170.724    0.262667     Sad  \n",
            "349    0.172  103.818    0.264000     Sad  \n",
            "329    0.212  129.163    0.288667     Sad  \n",
            "295    0.256  111.826    0.300667     Sad  \n"
          ]
        }
      ],
      "source": [
        "# create a function to assign emotions\n",
        "def assign_emotion(pos):\n",
        "    if pos <= 0.45:\n",
        "        return 'Sad'\n",
        "    elif pos >= 0.57:\n",
        "        return 'Happy'\n",
        "    else:\n",
        "        return 'Neutral'\n",
        "  \n",
        "# create 'Emotion' column using the function on 'Positivity'\n",
        "df['Emotion'] = df['Positivity'].apply(assign_emotion)\n",
        "\n",
        "# create new dataframe with desired artists\n",
        "new_artist_df = df[df['Artist Name(s)'].isin(['Phoebe Bridgers', 'The Strokes', 'alt-J', 'girl in red'])]\n",
        "\n",
        "# sort new dataframe by positivity in ascending order\n",
        "new_artist_df = new_artist_df.sort_values(by='Positivity')\n",
        "\n",
        "# show first 5 rows\n",
        "print(new_artist_df.head())"
      ]
    },
    {
      "cell_type": "code",
      "execution_count": null,
      "metadata": {
        "id": "rqjCte1tqThb",
        "colab": {
          "base_uri": "https://localhost:8080/",
          "height": 431
        },
        "outputId": "3ce2f77d-7b05-43fb-bcbf-4d4dfc172d68"
      },
      "outputs": [
        {
          "output_type": "display_data",
          "data": {
            "text/plain": [
              "<Figure size 576x432 with 1 Axes>"
            ],
            "image/png": "[encoded data removed]"
          },
          "metadata": {
            "needs_background": "light"
          }
        }
      ],
      "source": [
        "fig, ax = plt.subplots(figsize=(8, 6))\n",
        "\n",
        "# Plot the frequencies of each emotion by the artist\n",
        "new_artist_df.groupby(['Emotion', 'Artist Name(s)']).size().unstack().plot(kind='bar', ax=ax)\n",
        "\n",
        "# Set title\n",
        "ax.set_title(\"Artists' Emotional State\")\n",
        "\n",
        "# Set x-tick labels\n",
        "ax.set_xticklabels(['Happy', 'Neutral', 'Sad'])\n",
        "\n",
        "# Set y-axis boundaries\n",
        "ax.set_ylim([0, 10])\n",
        "\n",
        "# Set x and y labels\n",
        "ax.set_xlabel('Emotions')\n",
        "ax.set_ylabel('Frequencies')\n",
        "\n",
        "# Set legend\n",
        "ax.legend(title='Artists', labels=['Phoebe Bridgers', 'girl in red', 'alt-J', 'The Strokes'])\n",
        "\n",
        "# Show the plot\n",
        "plt.show()"
      ]
    }
  ],
  "metadata": {
    "colab": {
      "provenance": []
    },
    "kernelspec": {
      "display_name": "Python 3",
      "name": "python3"
    },
    "language_info": {
      "name": "python"
    }
  },
  "nbformat": 4,
  "nbformat_minor": 0
}